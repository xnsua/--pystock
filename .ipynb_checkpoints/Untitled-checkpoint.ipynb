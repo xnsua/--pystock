{
 "cells": [
  {
   "cell_type": "code",
   "execution_count": 12,
   "metadata": {
    "collapsed": true
   },
   "outputs": [],
   "source": [
    "class bsm_ndrop:\n",
    "    def __init__(self, data, dropcount):\n",
    "        self.data = data\n",
    "        self.dropcount = dropcount\n",
    "        self.datalen = len(data)\n",
    "        self.buyrecord = [False] * self.datalen\n",
    "    def isbuy(self, index):\n",
    "        if(index < dropcount):\n",
    "            return false\n",
    "        subdata = data[index - dropcount, index];\n",
    "        if(all[subdata]):\n",
    "            buyrecord[index] = True\n",
    "            return true\n",
    "        return false"
   ]
  },
  {
   "cell_type": "code",
   "execution_count": 13,
   "metadata": {
    "collapsed": false
   },
   "outputs": [],
   "source": [
    "obj = bsm_ndrop([0,0,0,1,0,1,1,0,0,1],1)"
   ]
  },
  {
   "cell_type": "code",
   "execution_count": 6,
   "metadata": {
    "collapsed": false
   },
   "outputs": [
    {
     "data": {
      "text/plain": [
       "[1, 2]"
      ]
     },
     "execution_count": 6,
     "metadata": {},
     "output_type": "execute_result"
    }
   ],
   "source": [
    "obj.datas\n"
   ]
  }
 ],
 "metadata": {
  "kernelspec": {
   "display_name": "Python 3",
   "language": "python",
   "name": "python3"
  },
  "language_info": {
   "codemirror_mode": {
    "name": "ipython",
    "version": 3
   },
   "file_extension": ".py",
   "mimetype": "text/x-python",
   "name": "python",
   "nbconvert_exporter": "python",
   "pygments_lexer": "ipython3",
   "version": "3.5.2"
  }
 },
 "nbformat": 4,
 "nbformat_minor": 2
}
