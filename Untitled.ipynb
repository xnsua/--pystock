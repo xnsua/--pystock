{
 "cells": [
  {
   "cell_type": "code",
   "execution_count": 1,
   "metadata": {
    "collapsed": true
   },
   "outputs": [],
   "source": [
    "from pyquery import PyQuery"
   ]
  },
  {
   "cell_type": "code",
   "execution_count": null,
   "metadata": {
    "collapsed": true
   },
   "outputs": [],
   "source": [
    ""
   ]
  },
  {
   "cell_type": "code",
   "execution_count": 72,
   "metadata": {
    "collapsed": false
   },
   "outputs": [
    {
     "name": "stdout",
     "output_type": "stream",
     "text": [
      "<pp><Data><fld_enddate>2017-01-06</fld_enddate><fld_unitnetvalue>0.8946</fld_unitnetvalue><fld_netvalue>0.9717</fld_netvalue><fld_newprice>3154.290</fld_newprice></Data></pp>\n",
      "\n"
     ]
    }
   ],
   "source": [
    "doc = PyQuery('<pp><Data>\\\n",
    "<fld_enddate>2017-01-06</fld_enddate>\\\n",
    "<fld_unitnetvalue>0.8946</fld_unitnetvalue>\\\n",
    "<fld_netvalue>0.9717</fld_netvalue>\\\n",
    "<fld_newprice>3154.290</fld_newprice>\\\n",
    "</Data></pp>')\n",
    "print(doc)\n",
    "print(doc('data'))"
   ]
  },
  {
   "cell_type": "code",
   "execution_count": 5,
   "metadata": {
    "collapsed": false
   },
   "outputs": [
    {
     "name": "stdout",
     "output_type": "stream",
     "text": [
      "<a href=\"http://fund.eastmoney.com/000001.html\">（000001）华夏成长</a> | \n"
     ]
    }
   ],
   "source": [
    "str = '<li class=\"b\"><div><a href=\"http://fund.eastmoney.com/000001.html\">\\\n",
    "（000001）华夏成长</a> | <a href=\"http://jijinba.eastmoney.com/topic,000001.html\">基金吧</a> | \\\n",
    "<a href=\"http://fund.eastmoney.com/f10/000001.html\">档案</a></div></li>'\n",
    "py = PyQuery(str)\n",
    "print(py('li.b>div>a:first').)"
   ]
  }
 ],
 "metadata": {
  "kernelspec": {
   "display_name": "Python 3",
   "language": "python",
   "name": "python3"
  },
  "language_info": {
   "codemirror_mode": {
    "name": "ipython",
    "version": 3.0
   },
   "file_extension": ".py",
   "mimetype": "text/x-python",
   "name": "python",
   "nbconvert_exporter": "python",
   "pygments_lexer": "ipython3",
   "version": "3.5.2"
  }
 },
 "nbformat": 4,
 "nbformat_minor": 0
}