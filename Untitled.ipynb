{
 "cells": [
  {
   "cell_type": "code",
   "execution_count": 49,
   "metadata": {
    "collapsed": false
   },
   "outputs": [],
   "source": [
    "class bsm_ndrop:\n",
    "    def __init__(self, data, dropcount):\n",
    "        self.data = data\n",
    "        self.dropcount = dropcount\n",
    "        self.datalen = len(data)\n",
    "        self.buyrecord = [False] * self.datalen\n",
    "    def isbuy(self, index):\n",
    "        if(index < self.dropcount):\n",
    "            return False\n",
    "        subdata = self.data[index - self.dropcount: index];\n",
    "        if(not any(subdata)):\n",
    "            self.buyrecord[index] = True\n",
    "            return True\n",
    "        return False"
   ]
  },
  {
   "cell_type": "code",
   "execution_count": 51,
   "metadata": {
    "collapsed": false
   },
   "outputs": [
    {
     "name": "stdout",
     "output_type": "stream",
     "text": [
      "[0, 0, 1, 0, 1, 0, 1, 1]\n",
      "[False, True, True, False, True, False, True, False]\n",
      "[0, 0, 1, 0, 1, 0, 1, 1]\n",
      "[False, False, True, False, False, False, False, False]\n"
     ]
    }
   ],
   "source": [
    "for dropcount in range(1,3):\n",
    "    obj = bsm_ndrop([0,0,1,0,1,0,1,1], dropcount)\n",
    "    print(obj.data)\n",
    "    bslist = []\n",
    "    for i in range(0, obj.datalen):\n",
    "        bslist.append(obj.isbuy(i))\n",
    "    print(bslist)"
   ]
  },
  {
   "cell_type": "code",
   "execution_count": null,
   "metadata": {
    "collapsed": true
   },
   "outputs": [],
   "source": [
    "a = 10"
   ]
  },
  {
   "cell_type": "code",
   "execution_count": null,
   "metadata": {
    "collapsed": true
   },
   "outputs": [],
   "source": [
    ""
   ]
  }
 ],
 "metadata": {
  "kernelspec": {
   "display_name": "Python 3",
   "language": "python",
   "name": "python3"
  },
  "language_info": {
   "codemirror_mode": {
    "name": "ipython",
    "version": 3.0
   },
   "file_extension": ".py",
   "mimetype": "text/x-python",
   "name": "python",
   "nbconvert_exporter": "python",
   "pygments_lexer": "ipython3",
   "version": "3.5.2"
  }
 },
 "nbformat": 4,
 "nbformat_minor": 0
}