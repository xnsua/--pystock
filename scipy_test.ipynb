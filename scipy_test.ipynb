{
 "cells": [
  {
   "cell_type": "code",
   "execution_count": 12,
   "metadata": {
    "collapsed": true
   },
   "outputs": [
    {
     "name": "stdout",
     "output_type": "stream",
     "text": [
      "Import complete\n"
     ]
    }
   ],
   "source": [
    "import numpy as np\n",
    "import scipy.stats as status\n",
    "import scipy.optimize as optimize\n",
    "print('Import complete')"
   ]
  },
  {
   "cell_type": "code",
   "execution_count": 13,
   "metadata": {
    "collapsed": false
   },
   "outputs": [
    {
     "name": "stdout",
     "output_type": "stream",
     "text": [
      "Rv_uniform\n[ 0.02096023  0.76707016  0.4479198   0.12054162  0.93077296  0.64955041\n  0.14067106  0.23159434  0.22647529  0.26005495]\nRv_beta\n[ 0.84260548  0.33072555  0.77992416  0.74142088  0.66510615  0.36034972\n  0.64576727  0.77802834  0.32307117  0.69617116]\n"
     ]
    }
   ],
   "source": [
    "np.random.seed(2017)\n",
    "rv_uniform = status.uniform.rvs(size = 10)\n",
    "rv_beta = status.beta.rvs(size=10, a = 4, b = 2)\n",
    "print('Rv_uniform')\n",
    "print(rv_uniform)\n",
    "print('Rv_beta')\n",
    "print(rv_beta)"
   ]
  },
  {
   "cell_type": "code",
   "execution_count": 14,
   "metadata": {
    "collapsed": false
   },
   "outputs": [
    {
     "name": "stdout",
     "output_type": "stream",
     "text": [
      "Method1\n[ 0.49345957  0.6795899   0.48977068  0.61087135  0.94683619  0.62462096\n  0.76938349  0.8368159   0.21930193  0.72341243]\nMethod2\n[ 0.49345957  0.6795899   0.48977068  0.61087135  0.94683619  0.62462096\n  0.76938349  0.8368159   0.21930193  0.72341243]\n"
     ]
    }
   ],
   "source": [
    "np.random.seed(seed = 1015)\n",
    "rv_beta = status.beta.rvs(size=10, a = 4, b = 2)\n",
    "print('Method1')\n",
    "print(rv_beta)\n",
    "np.random.seed(seed=1015)\n",
    "beta = status.beta(a = 4, b = 2)\n",
    "print('Method2')\n",
    "print(beta.rvs(size=10))"
   ]
  },
  {
   "cell_type": "code",
   "execution_count": 15,
   "metadata": {
    "collapsed": false
   },
   "outputs": [
    {
     "name": "stdout",
     "output_type": "stream",
     "text": [
      "Mean of the data is :  0.620173510946\nStand deviation of the data is :  1.91419452262\nMedian of the data is :  0.576267147061\n"
     ]
    }
   ],
   "source": [
    "norm_dist = status.norm(loc = 0.5, scale = 2)\n",
    "n = 200\n",
    "data = norm_dist.rvs(n)\n",
    "print( 'Mean of the data is : ', np.mean(data))\n",
    "print( 'Stand deviation of the data is : ', np.std(data))\n",
    "print( 'Median of the data is : ', np.median(data))"
   ]
  },
  {
   "cell_type": "code",
   "execution_count": 17,
   "metadata": {
    "collapsed": true
   },
   "outputs": [
    {
     "name": "stdout",
     "output_type": "stream",
     "text": [
      " I like it\n"
     ]
    }
   ],
   "source": [
    "print(' I like it')"
   ]
  },
  {
   "cell_type": "code",
   "execution_count": null,
   "metadata": {},
   "outputs": [],
   "source": [
    ""
   ]
  }
 ],
 "metadata": {
  "kernelspec": {
   "display_name": "Python 3",
   "language": "python",
   "name": "python3"
  },
  "language_info": {
   "codemirror_mode": {
    "name": "ipython",
    "version": 3.0
   },
   "file_extension": ".py",
   "mimetype": "text/x-python",
   "name": "python",
   "nbconvert_exporter": "python",
   "pygments_lexer": "ipython3",
   "version": "3.5.2"
  }
 },
 "nbformat": 4,
 "nbformat_minor": 0
}